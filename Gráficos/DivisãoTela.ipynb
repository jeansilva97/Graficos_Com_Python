{
 "cells": [
  {
   "cell_type": "code",
   "execution_count": 5,
   "id": "5c0dfc1f-4157-4b47-bf94-a4c5fe7b526a",
   "metadata": {},
   "outputs": [],
   "source": [
    "#Divisão de Tela - Mesma imagem produzir vários gráficos\n",
    "#Bom para comparar diferentes atributos de um mesmo conjunto de dados"
   ]
  },
  {
   "cell_type": "code",
   "execution_count": 2,
   "id": "19eec47d-8c2c-4b51-ab1f-af7ba645054e",
   "metadata": {},
   "outputs": [],
   "source": [
    "#Importando bibliotecas:\n",
    "import pandas as pd\n",
    "import matplotlib.pyplot as plt"
   ]
  },
  {
   "cell_type": "code",
   "execution_count": 4,
   "id": "896d0ddb-32f8-4d38-9cae-07bd799dba79",
   "metadata": {},
   "outputs": [
    {
     "data": {
      "text/html": [
       "<div>\n",
       "<style scoped>\n",
       "    .dataframe tbody tr th:only-of-type {\n",
       "        vertical-align: middle;\n",
       "    }\n",
       "\n",
       "    .dataframe tbody tr th {\n",
       "        vertical-align: top;\n",
       "    }\n",
       "\n",
       "    .dataframe thead th {\n",
       "        text-align: right;\n",
       "    }\n",
       "</style>\n",
       "<table border=\"1\" class=\"dataframe\">\n",
       "  <thead>\n",
       "    <tr style=\"text-align: right;\">\n",
       "      <th></th>\n",
       "      <th>Girth</th>\n",
       "      <th>Height</th>\n",
       "      <th>Volume</th>\n",
       "    </tr>\n",
       "  </thead>\n",
       "  <tbody>\n",
       "    <tr>\n",
       "      <th>0</th>\n",
       "      <td>8.3</td>\n",
       "      <td>70</td>\n",
       "      <td>10.3</td>\n",
       "    </tr>\n",
       "    <tr>\n",
       "      <th>1</th>\n",
       "      <td>8.6</td>\n",
       "      <td>65</td>\n",
       "      <td>10.3</td>\n",
       "    </tr>\n",
       "    <tr>\n",
       "      <th>2</th>\n",
       "      <td>8.8</td>\n",
       "      <td>63</td>\n",
       "      <td>10.2</td>\n",
       "    </tr>\n",
       "    <tr>\n",
       "      <th>3</th>\n",
       "      <td>10.5</td>\n",
       "      <td>72</td>\n",
       "      <td>16.4</td>\n",
       "    </tr>\n",
       "    <tr>\n",
       "      <th>4</th>\n",
       "      <td>10.7</td>\n",
       "      <td>81</td>\n",
       "      <td>18.8</td>\n",
       "    </tr>\n",
       "  </tbody>\n",
       "</table>\n",
       "</div>"
      ],
      "text/plain": [
       "   Girth  Height  Volume\n",
       "0    8.3      70    10.3\n",
       "1    8.6      65    10.3\n",
       "2    8.8      63    10.2\n",
       "3   10.5      72    16.4\n",
       "4   10.7      81    18.8"
      ]
     },
     "execution_count": 4,
     "metadata": {},
     "output_type": "execute_result"
    }
   ],
   "source": [
    "#Carregando a base de dados e visualizando:\n",
    "base=pd.read_csv(\"trees.csv\")\n",
    "base.head()"
   ]
  },
  {
   "cell_type": "code",
   "execution_count": 6,
   "id": "d7eb3882-c617-4792-88fc-cee58413e380",
   "metadata": {},
   "outputs": [],
   "source": [
    "#Renomeando colunas:\n",
    "base.columns=[\"Circunferência\", \"Altura\", \"Volume\"]"
   ]
  },
  {
   "cell_type": "code",
   "execution_count": 7,
   "id": "e23e951a-d858-4603-a118-5098fa83ce37",
   "metadata": {},
   "outputs": [
    {
     "data": {
      "text/plain": [
       "(array([ 5., 10.,  4.,  4.,  2.,  0.,  4.,  1.,  0.,  1.]),\n",
       " array([10.2 , 16.88, 23.56, 30.24, 36.92, 43.6 , 50.28, 56.96, 63.64,\n",
       "        70.32, 77.  ]),\n",
       " <BarContainer object of 10 artists>)"
      ]
     },
     "execution_count": 7,
     "metadata": {},
     "output_type": "execute_result"
    },
    {
     "data": {
      "image/png": "[encoded data removed]",
      "text/plain": [
       "<Figure size 432x288 with 4 Axes>"
      ]
     },
     "metadata": {
      "needs_background": "light"
     },
     "output_type": "display_data"
    }
   ],
   "source": [
    "#Criando figura, no qual os gráficos seão posicionados:\n",
    "plt.figure(1)\n",
    "plt.subplot(2,2,1) #(2,2,1) = linha, coluna, posição do gráfico\n",
    "plt.scatter(base.Circunferência, base.Volume)\n",
    "plt.subplot(2,2,2)\n",
    "plt.scatter(base.Circunferência, base.Altura)\n",
    "plt.subplot(2,2,3)\n",
    "plt.scatter(base.Altura, base.Volume, marker = \"*\")\n",
    "plt.subplot(2,2,4)\n",
    "plt.hist(base.Volume)\n"
   ]
  },
  {
   "cell_type": "code",
   "execution_count": null,
   "id": "20c8d09e-0a8f-4a41-b5f8-662027d2f94b",
   "metadata": {},
   "outputs": [],
   "source": []
  }
 ],
 "metadata": {
  "kernelspec": {
   "display_name": "Python 3 (ipykernel)",
   "language": "python",
   "name": "python3"
  },
  "language_info": {
   "codemirror_mode": {
    "name": "ipython",
    "version": 3
   },
   "file_extension": ".py",
   "mimetype": "text/x-python",
   "name": "python",
   "nbconvert_exporter": "python",
   "pygments_lexer": "ipython3",
   "version": "3.9.7"
  }
 },
 "nbformat": 4,
 "nbformat_minor": 5
}
