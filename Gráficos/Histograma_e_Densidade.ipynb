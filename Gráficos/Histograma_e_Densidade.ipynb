{
 "cells": [
  {
   "cell_type": "code",
   "execution_count": 1,
   "id": "9e73a272-d33a-4db4-ab8d-c4cc47211bfc",
   "metadata": {},
   "outputs": [],
   "source": [
    "                                                                          #Histogramas"
   ]
  },
  {
   "cell_type": "code",
   "execution_count": 14,
   "id": "45ec83ba-7e23-4f1d-8842-22c20c609b46",
   "metadata": {},
   "outputs": [],
   "source": [
    "#Importando as bibliotecas necessárias:\n",
    "import pandas as pd #Tratamento de dados\n",
    "import numpy as np #Bilioteca cientifica\n",
    "import matplotlib.pyplot as plt #Produção de gráficos\n",
    "import seaborn as sns"
   ]
  },
  {
   "cell_type": "code",
   "execution_count": 6,
   "id": "23208352-2add-498b-b5bf-35d1d3a28b2e",
   "metadata": {},
   "outputs": [
    {
     "data": {
      "text/plain": [
       "(31, 3)"
      ]
     },
     "execution_count": 6,
     "metadata": {},
     "output_type": "execute_result"
    }
   ],
   "source": [
    "#Carregamento da base de dados:\n",
    "base = pd.read_csv(\"trees.csv\")\n",
    "#Verificando qtd de linhas e colunas do arquivos:\n",
    "base.shape"
   ]
  },
  {
   "cell_type": "code",
   "execution_count": 7,
   "id": "ebd5866a-23f7-4130-ac31-8a4e1fbbc7a2",
   "metadata": {},
   "outputs": [
    {
     "data": {
      "text/html": [
       "<div>\n",
       "<style scoped>\n",
       "    .dataframe tbody tr th:only-of-type {\n",
       "        vertical-align: middle;\n",
       "    }\n",
       "\n",
       "    .dataframe tbody tr th {\n",
       "        vertical-align: top;\n",
       "    }\n",
       "\n",
       "    .dataframe thead th {\n",
       "        text-align: right;\n",
       "    }\n",
       "</style>\n",
       "<table border=\"1\" class=\"dataframe\">\n",
       "  <thead>\n",
       "    <tr style=\"text-align: right;\">\n",
       "      <th></th>\n",
       "      <th>Girth</th>\n",
       "      <th>Height</th>\n",
       "      <th>Volume</th>\n",
       "    </tr>\n",
       "  </thead>\n",
       "  <tbody>\n",
       "    <tr>\n",
       "      <th>0</th>\n",
       "      <td>8.3</td>\n",
       "      <td>70</td>\n",
       "      <td>10.3</td>\n",
       "    </tr>\n",
       "    <tr>\n",
       "      <th>1</th>\n",
       "      <td>8.6</td>\n",
       "      <td>65</td>\n",
       "      <td>10.3</td>\n",
       "    </tr>\n",
       "    <tr>\n",
       "      <th>2</th>\n",
       "      <td>8.8</td>\n",
       "      <td>63</td>\n",
       "      <td>10.2</td>\n",
       "    </tr>\n",
       "    <tr>\n",
       "      <th>3</th>\n",
       "      <td>10.5</td>\n",
       "      <td>72</td>\n",
       "      <td>16.4</td>\n",
       "    </tr>\n",
       "    <tr>\n",
       "      <th>4</th>\n",
       "      <td>10.7</td>\n",
       "      <td>81</td>\n",
       "      <td>18.8</td>\n",
       "    </tr>\n",
       "  </tbody>\n",
       "</table>\n",
       "</div>"
      ],
      "text/plain": [
       "   Girth  Height  Volume\n",
       "0    8.3      70    10.3\n",
       "1    8.6      65    10.3\n",
       "2    8.8      63    10.2\n",
       "3   10.5      72    16.4\n",
       "4   10.7      81    18.8"
      ]
     },
     "execution_count": 7,
     "metadata": {},
     "output_type": "execute_result"
    }
   ],
   "source": [
    "#Verificar as informações presentes nos dados:\n",
    "base.head()"
   ]
  },
  {
   "cell_type": "code",
   "execution_count": 9,
   "id": "85caacb3-d56c-4d0d-873d-c7fa1c3a4f8d",
   "metadata": {},
   "outputs": [],
   "source": [
    "#Renomeando colunas:\n",
    "base.columns = [\"Circunferência\", \"Altura\", \"Volume\"]"
   ]
  },
  {
   "cell_type": "code",
   "execution_count": 11,
   "id": "331e7199-3d6e-4c12-ae67-916ed7e11071",
   "metadata": {},
   "outputs": [
    {
     "data": {
      "text/plain": [
       "(array([4, 2, 5, 7, 9, 4], dtype=int64),\n",
       " array([63., 67., 71., 75., 79., 83., 87.]))"
      ]
     },
     "execution_count": 11,
     "metadata": {},
     "output_type": "execute_result"
    }
   ],
   "source": [
    "#Criando histograma considerando a segunda coluna (altura [:,1]) com seis eixos:\n",
    "h = np.histogram(base.iloc[:,1], bins = 6)\n",
    "h"
   ]
  },
  {
   "cell_type": "code",
   "execution_count": 15,
   "id": "79bc76de-ee92-410e-9265-f3eec5c46963",
   "metadata": {},
   "outputs": [
    {
     "data": {
      "text/plain": [
       "Text(0.5, 0, 'Altura')"
      ]
     },
     "execution_count": 15,
     "metadata": {},
     "output_type": "execute_result"
    },
    {
     "data": {
      "image/png": "[encoded data removed]",
      "text/plain": [
       "<Figure size 432x288 with 1 Axes>"
      ]
     },
     "metadata": {
      "needs_background": "light"
     },
     "output_type": "display_data"
    }
   ],
   "source": [
    "#Criando e visualizando histograma com a biblioteca matplotlib com 6 divisões \n",
    "plt.hist(base.iloc[:,1], bins = 6)\n",
    "plt.title(\"Árvore\") #Titulo\n",
    "plt.ylabel(\"Frequência\") #Coluna Y\n",
    "plt.xlabel(\"Altura\") #Coluna X\n",
    "\n",
    "    \n",
    "        "
   ]
  },
  {
   "cell_type": "code",
   "execution_count": 16,
   "id": "587898e3-599b-4f3d-a680-f193d01cc039",
   "metadata": {},
   "outputs": [
    {
     "data": {
      "text/plain": [
       "[Text(0.5, 1.0, 'Árvores')]"
      ]
     },
     "execution_count": 16,
     "metadata": {},
     "output_type": "execute_result"
    },
    {
     "data": {
      "image/png": "[encoded data removed]",
      "text/plain": [
       "<Figure size 432x288 with 1 Axes>"
      ]
     },
     "metadata": {
      "needs_background": "light"
     },
     "output_type": "display_data"
    }
   ],
   "source": [
    "#Criando e vizualizando histograma com a biblioteca seaborn com 6 divisões:\n",
    "#kde = linha de densidade\n",
    "sns.histplot(base.iloc[:,1], kde=False, bins=6, color=\"blue\").set(title=\"Árvores\")"
   ]
  },
  {
   "cell_type": "code",
   "execution_count": 18,
   "id": "f91c9654-5773-413b-9957-5d8c727731ce",
   "metadata": {},
   "outputs": [
    {
     "data": {
      "text/plain": [
       "[Text(0.5, 1.0, 'Árvores')]"
      ]
     },
     "execution_count": 18,
     "metadata": {},
     "output_type": "execute_result"
    },
    {
     "data": {
      "image/png": "[encoded data removed]",
      "text/plain": [
       "<Figure size 432x288 with 1 Axes>"
      ]
     },
     "metadata": {
      "needs_background": "light"
     },
     "output_type": "display_data"
    }
   ],
   "source": [
    "#Criando gráfico de densidade com biblioteca seaborn:\n",
    "sns.kdeplot(base.iloc[:,1], color=\"blue\").set(title=\"Árvores\")"
   ]
  },
  {
   "cell_type": "code",
   "execution_count": 19,
   "id": "ae798b64-0cd9-47d0-97a9-de051616fb40",
   "metadata": {},
   "outputs": [
    {
     "data": {
      "text/plain": [
       "[Text(0.5, 1.0, 'Árvores')]"
      ]
     },
     "execution_count": 19,
     "metadata": {},
     "output_type": "execute_result"
    },
    {
     "data": {
      "image/png": "[encoded data removed]",
      "text/plain": [
       "<Figure size 432x288 with 1 Axes>"
      ]
     },
     "metadata": {
      "needs_background": "light"
     },
     "output_type": "display_data"
    }
   ],
   "source": [
    "#Criando e vizualizando histograma com a biblioteca seaborn com 6 divisões e linha de densidade sobreposta:\n",
    "sns.histplot(base.iloc[:,1], kde=True, bins=6, color=\"blue\").set(title=\"Árvores\")"
   ]
  },
  {
   "cell_type": "code",
   "execution_count": null,
   "id": "e5e81446-5067-418e-b177-ca0780136b0d",
   "metadata": {},
   "outputs": [],
   "source": []
  }
 ],
 "metadata": {
  "kernelspec": {
   "display_name": "Python 3 (ipykernel)",
   "language": "python",
   "name": "python3"
  },
  "language_info": {
   "codemirror_mode": {
    "name": "ipython",
    "version": 3
   },
   "file_extension": ".py",
   "mimetype": "text/x-python",
   "name": "python",
   "nbconvert_exporter": "python",
   "pygments_lexer": "ipython3",
   "version": "3.9.7"
  }
 },
 "nbformat": 4,
 "nbformat_minor": 5
}
